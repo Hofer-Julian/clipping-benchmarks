{
 "cells": [
  {
   "cell_type": "code",
   "execution_count": 1,
   "metadata": {},
   "outputs": [],
   "source": [
    "import pygeos\n",
    "import numpy as np\n",
    "import json"
   ]
  },
  {
   "cell_type": "code",
   "execution_count": 2,
   "metadata": {},
   "outputs": [],
   "source": [
    "a = np.load(\"triangles_a.npy\")\n",
    "b = np.load(\"triangles_b.npy\")"
   ]
  },
  {
   "cell_type": "code",
   "execution_count": 3,
   "metadata": {},
   "outputs": [],
   "source": [
    "def area_of_intersection(a, b):\n",
    "    aa = pygeos.creation.polygons(a)\n",
    "    bb = pygeos.creation.polygons(b)\n",
    "    out = pygeos.area(pygeos.intersection(aa, bb))\n",
    "    return out"
   ]
  },
  {
   "cell_type": "code",
   "execution_count": 4,
   "metadata": {},
   "outputs": [
    {
     "name": "stdout",
     "output_type": "stream",
     "text": [
      "79.8 µs ± 657 ns per loop (mean ± std. dev. of 7 runs, 10000 loops each)\n",
      "540 µs ± 4.56 µs per loop (mean ± std. dev. of 7 runs, 1000 loops each)\n",
      "4.32 ms ± 47 µs per loop (mean ± std. dev. of 7 runs, 100 loops each)\n",
      "45.8 ms ± 735 µs per loop (mean ± std. dev. of 7 runs, 10 loops each)\n",
      "468 ms ± 12.2 ms per loop (mean ± std. dev. of 7 runs, 1 loop each)\n",
      "4.66 s ± 23.8 ms per loop (mean ± std. dev. of 7 runs, 1 loop each)\n"
     ]
    }
   ],
   "source": [
    "times = {}\n",
    "for s in [1, 10, 100, 1_000, 10_000, 100_000]:\n",
    "    res = %timeit -o area_of_intersection(a[:s], b[:s])\n",
    "    times[s] = res.average\n",
    "    \n",
    "json.dump(times, open(\"timing/pygeos.json\", \"w\"))\n",
    "np.save(\"answers/pygeos.npy\", area_of_intersection(a[:10_000], b[:10_000]))"
   ]
  }
 ],
 "metadata": {
  "kernelspec": {
   "display_name": "Python 3.7.6 64-bit ('salty': conda)",
   "language": "python",
   "name": "python37664bitsaltycondaf755b71eb5284478984b9eadde8a8258"
  },
  "language_info": {
   "codemirror_mode": {
    "name": "ipython",
    "version": 3
   },
   "file_extension": ".py",
   "mimetype": "text/x-python",
   "name": "python",
   "nbconvert_exporter": "python",
   "pygments_lexer": "ipython3",
   "version": "3.7.6"
  }
 },
 "nbformat": 4,
 "nbformat_minor": 4
}
