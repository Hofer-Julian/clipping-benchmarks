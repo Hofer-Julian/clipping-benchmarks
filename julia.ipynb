{
 "cells": [
  {
   "cell_type": "code",
   "execution_count": 1,
   "metadata": {},
   "outputs": [],
   "source": [
    "using BenchmarkTools"
   ]
  },
  {
   "cell_type": "markdown",
   "metadata": {},
   "source": [
    "# Common"
   ]
  },
  {
   "cell_type": "code",
   "execution_count": 2,
   "metadata": {},
   "outputs": [
    {
     "data": {
      "text/plain": [
       "dot_product (generic function with 1 method)"
      ]
     },
     "execution_count": 2,
     "metadata": {},
     "output_type": "execute_result"
    }
   ],
   "source": [
    "struct Point\n",
    "    x::Float64\n",
    "    y::Float64\n",
    "end\n",
    "\n",
    "# Direction vector\n",
    "struct DVector\n",
    "    x::Float64\n",
    "    y::Float64\n",
    "end\n",
    "\n",
    "function cross_product(u::DVector, v::DVector)\n",
    "    u.x * v.y - u.y * v.x\n",
    "end\n",
    "\n",
    "function dot_product(u::DVector, v::DVector)\n",
    "    u.x * v.x + u.y * v.y\n",
    "end"
   ]
  },
  {
   "cell_type": "markdown",
   "metadata": {},
   "source": [
    "# Sutherland-Hodgman"
   ]
  },
  {
   "cell_type": "code",
   "execution_count": 3,
   "metadata": {},
   "outputs": [
    {
     "data": {
      "text/plain": [
       "clip_polygons (generic function with 1 method)"
      ]
     },
     "execution_count": 3,
     "metadata": {},
     "output_type": "execute_result"
    }
   ],
   "source": [
    "function _inside(p::Point, r::Point, U::DVector)\n",
    "    U.x * (p.y - r.y) > U.y * (p.x - r.x)\n",
    "end\n",
    "\n",
    "function _intersection(a::Point, V::DVector, r::Point, N::DVector)\n",
    "    W = DVector(r.x - a.x, r.y - a.y)\n",
    "    nw = dot_product(N, W)\n",
    "    nv = dot_product(N, V)\n",
    "    if nv != 0.0\n",
    "        t = nw / nv\n",
    "        return true, Point(a.x + t * V.x, a.y + t * V.y)\n",
    "    else\n",
    "        return false, Point(0.0, 0.0)\n",
    "    end\n",
    "end\n",
    "\n",
    "function polygon_area(polygon, len)\n",
    "    area = 0.0\n",
    "    a = Point(polygon[1, 1], polygon[2, 1])\n",
    "    b = Point(polygon[1, 2], polygon[2, 2])\n",
    "    U = DVector(b.x - a.x, b.y - a.y)\n",
    "    for i in 3:len\n",
    "        c = Point(polygon[1, i], polygon[2, i])\n",
    "        V = DVector(a.x - c.x, a.y - c.y)\n",
    "        area += abs(cross_product(U, V))\n",
    "        b = c\n",
    "        U = V\n",
    "    end\n",
    "    return 0.5 * area\n",
    "end\n",
    "\n",
    "function _copy(src, dst, n)\n",
    "    for i in 1:n\n",
    "        dst[1, i] = src[1, i]\n",
    "        dst[2, i] = src[2, i]\n",
    "    end\n",
    "end\n",
    "\n",
    "function _push(array, n, value)\n",
    "    array[1, n + 1] = value.x\n",
    "    array[2, n + 1] = value.y\n",
    "    return n + 1\n",
    "end\n",
    "\n",
    "function clip_polygons(polygon, clipper)\n",
    "    n_output = size(polygon)[2]\n",
    "    n_clip = size(clipper)[2]\n",
    "    output = Array{Float64}(undef, (2, 6))\n",
    "    subject = Array{Float64}(undef, (2, 6))\n",
    "    _copy(polygon, output, n_output)\n",
    "    \n",
    "    r = Point(clipper[1, n_clip], clipper[2, n_clip])\n",
    "    for i in 1:n_clip\n",
    "        s = Point(clipper[1, i], clipper[2, i])\n",
    "\n",
    "        U = DVector(s.x - r.x, s.y - r.y)\n",
    "        N = DVector(-U.y, U.x)\n",
    "        if U.x == 0.0 && U.y == 0.0\n",
    "            continue\n",
    "        end\n",
    "        len = n_output\n",
    "        _copy(output, subject, len)\n",
    "        n_output = 0\n",
    "\n",
    "        a = Point(subject[1, len], subject[2, len])\n",
    "        a_inside = _inside(a, r, U)\n",
    "        for j in 1:len\n",
    "            b = Point(subject[1, j], subject[2, j])\n",
    "\n",
    "            V = DVector(b.x - a.x, b.y - a.y)\n",
    "            if V.x == 0.0 && V.y == 0.0\n",
    "                continue\n",
    "            end\n",
    "            b_inside = _inside(b, r, U)\n",
    "            if b_inside\n",
    "                if !a_inside\n",
    "                    succes, point = _intersection(a, V, r, N)\n",
    "                    if succes\n",
    "                        n_output = _push(output, n_output, point)\n",
    "                    end\n",
    "                end\n",
    "                n_output = _push(output, n_output, b)\n",
    "            elseif a_inside\n",
    "                succes, point = _intersection(a, V, r, N)\n",
    "                if succes\n",
    "                    n_output = _push(output, n_output, point)\n",
    "                else\n",
    "                    b_inside = true\n",
    "                    n_output = _push(output, n_output, b)\n",
    "                end\n",
    "            end\n",
    "            \n",
    "            a = b\n",
    "            a_inside = b_inside\n",
    "        end\n",
    "        \n",
    "        if n_output < 3\n",
    "            return 0.0\n",
    "        end\n",
    "        \n",
    "        r = s\n",
    "    end\n",
    "    area = polygon_area(output, n_output)\n",
    "    return area\n",
    "end      "
   ]
  },
  {
   "cell_type": "markdown",
   "metadata": {},
   "source": [
    "# Generate counter clockwise triangles"
   ]
  },
  {
   "cell_type": "code",
   "execution_count": 4,
   "metadata": {},
   "outputs": [],
   "source": [
    "function ccw!(a)\n",
    "    n = size(a)[end]\n",
    "    \n",
    "    for i in 1:n\n",
    "        t = a[:, :, i]\n",
    "        normal = (t[1, 2] - t[1, 1])*(t[2, 3]-t[2, 1])-(t[2, 2]-t[2, 1])*(t[1, 3]-t[1, 1])\n",
    "\n",
    "        if normal < 0\n",
    "            a[:, :, i] .= reverse(t, dims=2)\n",
    "        end         \n",
    "    end\n",
    "end\n",
    "\n",
    "a = rand(2, 3, 1000000)\n",
    "b = rand(2, 3, 1000000)\n",
    "ccw!(a)\n",
    "ccw!(b)"
   ]
  },
  {
   "cell_type": "markdown",
   "metadata": {},
   "source": [
    "# Test intersection"
   ]
  },
  {
   "cell_type": "code",
   "execution_count": 5,
   "metadata": {},
   "outputs": [
    {
     "data": {
      "text/plain": [
       "area_of_intersection (generic function with 1 method)"
      ]
     },
     "execution_count": 5,
     "metadata": {},
     "output_type": "execute_result"
    }
   ],
   "source": [
    "function area_of_intersection(a, b)\n",
    "    n = size(a)[end]\n",
    "    out = Array{Float64}(undef, n)\n",
    "    for i in 1:n\n",
    "        t0 = a[:, :, i]\n",
    "        t1 = b[:, :, i]\n",
    "        out[i] = clip_polygons(t0, t1)\n",
    "    end\n",
    "    return out\n",
    "end"
   ]
  },
  {
   "cell_type": "code",
   "execution_count": 6,
   "metadata": {},
   "outputs": [
    {
     "name": "stdout",
     "output_type": "stream",
     "text": [
      "  330.447 ms (4000002 allocations: 587.46 MiB)\n"
     ]
    },
    {
     "data": {
      "text/plain": [
       "1000000-element Array{Float64,1}:\n",
       " 0.014391781315202726 \n",
       " 0.0003064186767845136\n",
       " 0.0002968296136513384\n",
       " 0.0002866365320717927\n",
       " 0.0                  \n",
       " 0.017467793710161897 \n",
       " 0.009843798894065208 \n",
       " 0.0                  \n",
       " 0.0                  \n",
       " 0.0                  \n",
       " 0.012743618317396514 \n",
       " 0.006871623315515474 \n",
       " 0.0                  \n",
       " ⋮                    \n",
       " 0.00849481186994664  \n",
       " 0.0007650273034510932\n",
       " 0.011486340277840412 \n",
       " 0.0                  \n",
       " 0.04689887920880241  \n",
       " 0.00655943463347236  \n",
       " 0.008974314733621053 \n",
       " 0.0004920024442981283\n",
       " 0.0019692347708163273\n",
       " 0.0                  \n",
       " 0.0043026069093412955\n",
       " 0.03881890508003275  "
      ]
     },
     "execution_count": 6,
     "metadata": {},
     "output_type": "execute_result"
    }
   ],
   "source": [
    "@btime area_of_intersection(a, b)"
   ]
  }
 ],
 "metadata": {
  "kernelspec": {
   "display_name": "Julia 1.3.1",
   "language": "julia",
   "name": "julia-1.3"
  },
  "language_info": {
   "file_extension": ".jl",
   "mimetype": "application/julia",
   "name": "julia",
   "version": "1.3.1"
  }
 },
 "nbformat": 4,
 "nbformat_minor": 4
}
