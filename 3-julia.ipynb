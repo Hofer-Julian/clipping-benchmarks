{
 "cells": [
  {
   "cell_type": "code",
   "execution_count": 1,
   "metadata": {},
   "outputs": [],
   "source": [
    "using BenchmarkTools\n",
    "using NPZ\n",
    "using JSON"
   ]
  },
  {
   "cell_type": "markdown",
   "metadata": {},
   "source": [
    "# Common"
   ]
  },
  {
   "cell_type": "code",
   "execution_count": 2,
   "metadata": {},
   "outputs": [
    {
     "data": {
      "text/plain": [
       "dot_product (generic function with 1 method)"
      ]
     },
     "execution_count": 2,
     "metadata": {},
     "output_type": "execute_result"
    }
   ],
   "source": [
    "struct Point\n",
    "    x::Float64\n",
    "    y::Float64\n",
    "end\n",
    "\n",
    "# Direction vector\n",
    "struct DVector\n",
    "    x::Float64\n",
    "    y::Float64\n",
    "end\n",
    "\n",
    "function cross_product(u::DVector, v::DVector)\n",
    "    u.x * v.y - u.y * v.x\n",
    "end\n",
    "\n",
    "function dot_product(u::DVector, v::DVector)\n",
    "    u.x * v.x + u.y * v.y\n",
    "end"
   ]
  },
  {
   "cell_type": "markdown",
   "metadata": {},
   "source": [
    "# Sutherland-Hodgman"
   ]
  },
  {
   "cell_type": "code",
   "execution_count": 3,
   "metadata": {},
   "outputs": [
    {
     "data": {
      "text/plain": [
       "clip_polygons (generic function with 1 method)"
      ]
     },
     "execution_count": 3,
     "metadata": {},
     "output_type": "execute_result"
    }
   ],
   "source": [
    "function _inside(p::Point, r::Point, U::DVector)\n",
    "    U.x * (p.y - r.y) > U.y * (p.x - r.x)\n",
    "end\n",
    "\n",
    "function _intersection(a::Point, V::DVector, r::Point, N::DVector)\n",
    "    W = DVector(r.x - a.x, r.y - a.y)\n",
    "    nw = dot_product(N, W)\n",
    "    nv = dot_product(N, V)\n",
    "    if nv != 0.0\n",
    "        t = nw / nv\n",
    "        return true, Point(a.x + t * V.x, a.y + t * V.y)\n",
    "    else\n",
    "        return false, Point(0.0, 0.0)\n",
    "    end\n",
    "end\n",
    "\n",
    "function polygon_area(polygon, len)\n",
    "    area = 0.0\n",
    "    a = Point(polygon[1, 1], polygon[2, 1])\n",
    "    b = Point(polygon[1, 2], polygon[2, 2])\n",
    "    U = DVector(b.x - a.x, b.y - a.y)\n",
    "    for i in 3:len\n",
    "        c = Point(polygon[1, i], polygon[2, i])\n",
    "        V = DVector(a.x - c.x, a.y - c.y)\n",
    "        area += abs(cross_product(U, V))\n",
    "        b = c\n",
    "        U = V\n",
    "    end\n",
    "    return 0.5 * area\n",
    "end\n",
    "\n",
    "function _copy(src, dst, n)\n",
    "    for i in 1:n\n",
    "        dst[1, i] = src[1, i]\n",
    "        dst[2, i] = src[2, i]\n",
    "    end\n",
    "end\n",
    "\n",
    "function _push(array, n, value)\n",
    "    array[1, n + 1] = value.x\n",
    "    array[2, n + 1] = value.y\n",
    "    return n + 1\n",
    "end\n",
    "\n",
    "function clip_polygons(polygon, clipper)\n",
    "    n_output = size(polygon)[2]\n",
    "    n_clip = size(clipper)[2]\n",
    "    output = Array{Float64}(undef, (2, 6))\n",
    "    subject = Array{Float64}(undef, (2, 6))\n",
    "    _copy(polygon, output, n_output)\n",
    "    \n",
    "    r = Point(clipper[1, n_clip], clipper[2, n_clip])\n",
    "    for i in 1:n_clip\n",
    "        s = Point(clipper[1, i], clipper[2, i])\n",
    "\n",
    "        U = DVector(s.x - r.x, s.y - r.y)\n",
    "        N = DVector(-U.y, U.x)\n",
    "        if U.x == 0.0 && U.y == 0.0\n",
    "            continue\n",
    "        end\n",
    "        len = n_output\n",
    "        _copy(output, subject, len)\n",
    "        n_output = 0\n",
    "\n",
    "        a = Point(subject[1, len], subject[2, len])\n",
    "        a_inside = _inside(a, r, U)\n",
    "        for j in 1:len\n",
    "            b = Point(subject[1, j], subject[2, j])\n",
    "\n",
    "            V = DVector(b.x - a.x, b.y - a.y)\n",
    "            if V.x == 0.0 && V.y == 0.0\n",
    "                continue\n",
    "            end\n",
    "            b_inside = _inside(b, r, U)\n",
    "            \n",
    "            if b_inside\n",
    "                if !a_inside\n",
    "                    succes, point = _intersection(a, V, r, N)\n",
    "                    if succes\n",
    "                        n_output = _push(output, n_output, point)\n",
    "                    end\n",
    "                end\n",
    "                n_output = _push(output, n_output, b)\n",
    "            elseif a_inside\n",
    "                succes, point = _intersection(a, V, r, N)\n",
    "                if succes\n",
    "                    n_output = _push(output, n_output, point)\n",
    "                else\n",
    "                    b_inside = true\n",
    "                    n_output = _push(output, n_output, b)\n",
    "                end\n",
    "            end\n",
    "            \n",
    "            a = b\n",
    "            a_inside = b_inside\n",
    "        end\n",
    "        \n",
    "        if n_output < 3\n",
    "            return 0.0\n",
    "        end\n",
    "        \n",
    "        r = s\n",
    "    end\n",
    "    area = polygon_area(output, n_output)\n",
    "    return area\n",
    "end      "
   ]
  },
  {
   "cell_type": "markdown",
   "metadata": {},
   "source": [
    "# Read triangles"
   ]
  },
  {
   "cell_type": "code",
   "execution_count": 4,
   "metadata": {},
   "outputs": [
    {
     "data": {
      "text/plain": [
       "2×3×10000000 Array{Float64,3}:\n",
       "[:, :, 1] =\n",
       " 0.772866  0.570218  0.250386\n",
       " 0.609051  0.958381  0.258065\n",
       "\n",
       "[:, :, 2] =\n",
       " 0.264513  0.664046  0.124763\n",
       " 0.538956  0.928762  0.803564\n",
       "\n",
       "[:, :, 3] =\n",
       " 0.47856   0.674365  0.393399\n",
       " 0.301384  0.281799  0.901712\n",
       "\n",
       "...\n",
       "\n",
       "[:, :, 9999998] =\n",
       " 0.398022  0.0983778  0.43207\n",
       " 0.561544  0.233543   0.38628\n",
       "\n",
       "[:, :, 9999999] =\n",
       " 0.982461  0.107067  0.588445\n",
       " 0.401328  0.310718  0.162313\n",
       "\n",
       "[:, :, 10000000] =\n",
       " 0.529699  0.942806  0.724126\n",
       " 0.150737  0.965228  0.731719"
      ]
     },
     "execution_count": 4,
     "metadata": {},
     "output_type": "execute_result"
    }
   ],
   "source": [
    "a = permutedims(npzread(\"triangles_a.npy\"), (3, 2, 1))\n",
    "b = permutedims(npzread(\"triangles_b.npy\"), (3, 2, 1))"
   ]
  },
  {
   "cell_type": "code",
   "execution_count": 5,
   "metadata": {},
   "outputs": [
    {
     "data": {
      "text/plain": [
       "area_of_intersection (generic function with 1 method)"
      ]
     },
     "execution_count": 5,
     "metadata": {},
     "output_type": "execute_result"
    }
   ],
   "source": [
    "function area_of_intersection(a, b)\n",
    "    n = size(a)[end]\n",
    "    out = Array{Float64}(undef, n)\n",
    "    for i in 1:n\n",
    "        t0 = a[:, :, i]\n",
    "        t1 = b[:, :, i]\n",
    "        out[i] = clip_polygons(t0, t1)\n",
    "    end\n",
    "    return out\n",
    "end"
   ]
  },
  {
   "cell_type": "code",
   "execution_count": 6,
   "metadata": {},
   "outputs": [],
   "source": [
    "times = Dict()\n",
    "for s in [1, 10, 100, 1_000, 10_000, 100_000, 1_000_000, 10_000_000]\n",
    "    aa = a[:, :, 1:s]\n",
    "    bb = b[:, :, 1:s]\n",
    "    res = @belapsed(area_of_intersection($aa, $bb))\n",
    "    times[s] = res\n",
    "end\n",
    "\n",
    "open(\"timing/julia.json\",\"w\") do f\n",
    "    JSON.print(f, times)\n",
    "end\n",
    "\n",
    "npzwrite(\"answers/julia.npy\", area_of_intersection(a[:, :, 1:10_000], b[:, :, 1:10_000]))"
   ]
  }
 ],
 "metadata": {
  "kernelspec": {
   "display_name": "Julia 1.3.1",
   "language": "julia",
   "name": "julia-1.3"
  },
  "language_info": {
   "file_extension": ".jl",
   "mimetype": "application/julia",
   "name": "julia",
   "version": "1.3.1"
  }
 },
 "nbformat": 4,
 "nbformat_minor": 4
}
