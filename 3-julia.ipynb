{
 "cells": [
  {
   "cell_type": "code",
   "execution_count": 3,
   "metadata": {},
   "outputs": [],
   "source": [
    "using BenchmarkTools\n",
    "using NPZ"
   ]
  },
  {
   "cell_type": "markdown",
   "metadata": {},
   "source": [
    "# Common"
   ]
  },
  {
   "cell_type": "code",
   "execution_count": 4,
   "metadata": {},
   "outputs": [
    {
     "data": {
      "text/plain": [
       "dot_product (generic function with 1 method)"
      ]
     },
     "execution_count": 4,
     "metadata": {},
     "output_type": "execute_result"
    }
   ],
   "source": [
    "struct Point\n",
    "    x::Float64\n",
    "    y::Float64\n",
    "end\n",
    "\n",
    "# Direction vector\n",
    "struct DVector\n",
    "    x::Float64\n",
    "    y::Float64\n",
    "end\n",
    "\n",
    "function cross_product(u::DVector, v::DVector)\n",
    "    u.x * v.y - u.y * v.x\n",
    "end\n",
    "\n",
    "function dot_product(u::DVector, v::DVector)\n",
    "    u.x * v.x + u.y * v.y\n",
    "end"
   ]
  },
  {
   "cell_type": "markdown",
   "metadata": {},
   "source": [
    "# Sutherland-Hodgman"
   ]
  },
  {
   "cell_type": "code",
   "execution_count": 5,
   "metadata": {},
   "outputs": [
    {
     "data": {
      "text/plain": [
       "clip_polygons (generic function with 1 method)"
      ]
     },
     "execution_count": 5,
     "metadata": {},
     "output_type": "execute_result"
    }
   ],
   "source": [
    "function _inside(p::Point, r::Point, U::DVector)\n",
    "    U.x * (p.y - r.y) > U.y * (p.x - r.x)\n",
    "end\n",
    "\n",
    "function _intersection(a::Point, V::DVector, r::Point, N::DVector)\n",
    "    W = DVector(r.x - a.x, r.y - a.y)\n",
    "    nw = dot_product(N, W)\n",
    "    nv = dot_product(N, V)\n",
    "    if nv != 0.0\n",
    "        t = nw / nv\n",
    "        return true, Point(a.x + t * V.x, a.y + t * V.y)\n",
    "    else\n",
    "        return false, Point(0.0, 0.0)\n",
    "    end\n",
    "end\n",
    "\n",
    "function polygon_area(polygon, len)\n",
    "    area = 0.0\n",
    "    a = Point(polygon[1, 1], polygon[2, 1])\n",
    "    b = Point(polygon[1, 2], polygon[2, 2])\n",
    "    U = DVector(b.x - a.x, b.y - a.y)\n",
    "    for i in 3:len\n",
    "        c = Point(polygon[1, i], polygon[2, i])\n",
    "        V = DVector(a.x - c.x, a.y - c.y)\n",
    "        area += abs(cross_product(U, V))\n",
    "        b = c\n",
    "        U = V\n",
    "    end\n",
    "    return 0.5 * area\n",
    "end\n",
    "\n",
    "function _copy(src, dst, n)\n",
    "    for i in 1:n\n",
    "        dst[1, i] = src[1, i]\n",
    "        dst[2, i] = src[2, i]\n",
    "    end\n",
    "end\n",
    "\n",
    "function _push(array, n, value)\n",
    "    array[1, n + 1] = value.x\n",
    "    array[2, n + 1] = value.y\n",
    "    return n + 1\n",
    "end\n",
    "\n",
    "function clip_polygons(polygon, clipper)\n",
    "    n_output = size(polygon)[2]\n",
    "    n_clip = size(clipper)[2]\n",
    "    output = Array{Float64}(undef, (2, 6))\n",
    "    subject = Array{Float64}(undef, (2, 6))\n",
    "    _copy(polygon, output, n_output)\n",
    "    \n",
    "    r = Point(clipper[1, n_clip], clipper[2, n_clip])\n",
    "    for i in 1:n_clip\n",
    "        s = Point(clipper[1, i], clipper[2, i])\n",
    "\n",
    "        U = DVector(s.x - r.x, s.y - r.y)\n",
    "        N = DVector(-U.y, U.x)\n",
    "        if U.x == 0.0 && U.y == 0.0\n",
    "            continue\n",
    "        end\n",
    "        len = n_output\n",
    "        _copy(output, subject, len)\n",
    "        n_output = 0\n",
    "\n",
    "        a = Point(subject[1, len], subject[2, len])\n",
    "        a_inside = _inside(a, r, U)\n",
    "        for j in 1:len\n",
    "            b = Point(subject[1, j], subject[2, j])\n",
    "\n",
    "            V = DVector(b.x - a.x, b.y - a.y)\n",
    "            if V.x == 0.0 && V.y == 0.0\n",
    "                continue\n",
    "            end\n",
    "            b_inside = _inside(b, r, U)\n",
    "            \n",
    "            if b_inside\n",
    "                if !a_inside\n",
    "                    succes, point = _intersection(a, V, r, N)\n",
    "                    if succes\n",
    "                        n_output = _push(output, n_output, point)\n",
    "                    end\n",
    "                end\n",
    "                n_output = _push(output, n_output, b)\n",
    "            elseif a_inside\n",
    "                succes, point = _intersection(a, V, r, N)\n",
    "                if succes\n",
    "                    n_output = _push(output, n_output, point)\n",
    "                else\n",
    "                    b_inside = true\n",
    "                    n_output = _push(output, n_output, b)\n",
    "                end\n",
    "            end\n",
    "            \n",
    "            a = b\n",
    "            a_inside = b_inside\n",
    "        end\n",
    "        \n",
    "        if n_output < 3\n",
    "            return 0.0\n",
    "        end\n",
    "        \n",
    "        r = s\n",
    "    end\n",
    "    area = polygon_area(output, n_output)\n",
    "    return area\n",
    "end      "
   ]
  },
  {
   "cell_type": "markdown",
   "metadata": {},
   "source": [
    "# Read triangles"
   ]
  },
  {
   "cell_type": "code",
   "execution_count": 6,
   "metadata": {},
   "outputs": [
    {
     "data": {
      "text/plain": [
       "2×3×1000000 Array{Float64,3}:\n",
       "[:, :, 1] =\n",
       " 0.13943   0.20051   0.0433536\n",
       " 0.141259  0.103664  0.345891 \n",
       "\n",
       "[:, :, 2] =\n",
       " 0.638903  0.859061  0.286762\n",
       " 0.725644  0.911425  0.768978\n",
       "\n",
       "[:, :, 3] =\n",
       " 0.127354  0.668901  0.166028\n",
       " 0.614252  0.977322  0.912566\n",
       "\n",
       "...\n",
       "\n",
       "[:, :, 999998] =\n",
       " 0.163299  0.918414  0.731335\n",
       " 0.846918  0.664982  0.812965\n",
       "\n",
       "[:, :, 999999] =\n",
       " 0.581572  0.0160035  0.949833\n",
       " 0.862413  0.445922   0.728067\n",
       "\n",
       "[:, :, 1000000] =\n",
       " 0.932028  0.104979  0.533061\n",
       " 0.607966  0.153133  0.193289"
      ]
     },
     "execution_count": 6,
     "metadata": {},
     "output_type": "execute_result"
    }
   ],
   "source": [
    "a = permutedims(npzread(\"triangles_a.npy\"), (3, 2, 1))\n",
    "b = permutedims(npzread(\"triangles_b.npy\"), (3, 2, 1))"
   ]
  },
  {
   "cell_type": "code",
   "execution_count": 7,
   "metadata": {},
   "outputs": [
    {
     "data": {
      "text/plain": [
       "area_of_intersection (generic function with 1 method)"
      ]
     },
     "execution_count": 7,
     "metadata": {},
     "output_type": "execute_result"
    }
   ],
   "source": [
    "function area_of_intersection(a, b)\n",
    "    n = size(a)[end]\n",
    "    out = Array{Float64}(undef, n)\n",
    "    for i in 1:n\n",
    "        t0 = a[:, :, i]\n",
    "        t1 = b[:, :, i]\n",
    "        out[i] = clip_polygons(t0, t1)\n",
    "    end\n",
    "    return out\n",
    "end"
   ]
  },
  {
   "cell_type": "code",
   "execution_count": 8,
   "metadata": {},
   "outputs": [
    {
     "name": "stdout",
     "output_type": "stream",
     "text": [
      "  311.246 ms (4000002 allocations: 587.46 MiB)\n"
     ]
    },
    {
     "data": {
      "text/plain": [
       "1000000-element Array{Float64,1}:\n",
       " 0.0                  \n",
       " 0.0                  \n",
       " 0.0015428417818308345\n",
       " 0.0116674946363678   \n",
       " 0.0                  \n",
       " 0.012820796709396648 \n",
       " 0.015439009483970728 \n",
       " 0.0011013956528890018\n",
       " 0.01195865718660706  \n",
       " 0.01127765391313546  \n",
       " 0.0                  \n",
       " 0.009645649033342713 \n",
       " 0.03162643130242185  \n",
       " ⋮                    \n",
       " 0.00952080431982822  \n",
       " 0.0010082222361460235\n",
       " 0.0                  \n",
       " 0.01320632733056133  \n",
       " 0.03502262207396337  \n",
       " 0.0                  \n",
       " 0.0                  \n",
       " 0.0                  \n",
       " 0.021154967845624113 \n",
       " 5.482193249288619e-7 \n",
       " 0.019657919361185133 \n",
       " 0.01220281881976658  "
      ]
     },
     "execution_count": 8,
     "metadata": {},
     "output_type": "execute_result"
    }
   ],
   "source": [
    "@btime area_of_intersection(a, b)"
   ]
  }
 ],
 "metadata": {
  "kernelspec": {
   "display_name": "Julia 1.3.1",
   "language": "julia",
   "name": "julia-1.3"
  },
  "language_info": {
   "file_extension": ".jl",
   "mimetype": "application/julia",
   "name": "julia",
   "version": "1.3.1"
  }
 },
 "nbformat": 4,
 "nbformat_minor": 4
}
