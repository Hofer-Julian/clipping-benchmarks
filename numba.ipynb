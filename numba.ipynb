{
 "cells": [
  {
   "cell_type": "code",
   "execution_count": 1,
   "metadata": {},
   "outputs": [],
   "source": [
    "from typing import NamedTuple, Sequence, Tuple\n",
    "import numba as nb\n",
    "import numpy as np"
   ]
  },
  {
   "cell_type": "markdown",
   "metadata": {},
   "source": [
    "# Common"
   ]
  },
  {
   "cell_type": "code",
   "execution_count": 2,
   "metadata": {},
   "outputs": [],
   "source": [
    "FLOAT_TYPE = np.float64\n",
    "FLOAT_MIN = np.finfo(FLOAT_TYPE).min\n",
    "FLOAT_MAX = np.finfo(FLOAT_TYPE).max\n",
    "\n",
    "class Point(NamedTuple):\n",
    "    x: float\n",
    "    y: float\n",
    "\n",
    "class Vector(NamedTuple):\n",
    "    x: float\n",
    "    y: float\n",
    "\n",
    "@nb.njit\n",
    "def cross_product(u: Vector, v: Vector) -> float:\n",
    "    return u.x * v.y - u.y * v.x\n",
    "\n",
    "@nb.njit\n",
    "def dot_product(u: Vector, v: Vector) -> float:\n",
    "    return u.x * v.x + u.y * v.y"
   ]
  },
  {
   "cell_type": "markdown",
   "metadata": {},
   "source": [
    "# Sutherland-Hodgman"
   ]
  },
  {
   "cell_type": "code",
   "execution_count": 3,
   "metadata": {},
   "outputs": [],
   "source": [
    "@nb.njit\n",
    "def _push(array: np.ndarray, n: int, value: Vector):\n",
    "    array[n] = value\n",
    "    return n + 1\n",
    "\n",
    "@nb.njit\n",
    "def _copy(src, dst, n):\n",
    "    for i in range(n):\n",
    "        dst[i] = src[i]\n",
    "\n",
    "@nb.njit\n",
    "def _inside(p: Point, r: Point, U: Vector):\n",
    "    # U: a -> b direction vector\n",
    "    # p is point r or s\n",
    "    return U.x * (p.y - r.y) > U.y * (p.x - r.x)\n",
    "\n",
    "@nb.njit\n",
    "def _intersection(a: Point, V: Vector, r: Point, N: Vector):\n",
    "    W = Vector(r.x - a.x, r.y - a.y)\n",
    "    nw = dot_product(N, W)\n",
    "    nv = dot_product(N, V)\n",
    "    if nv != 0:\n",
    "        t = nw / nv\n",
    "        return True, Point(a.x + t * V.x, a.y + t * V.y)\n",
    "    else:\n",
    "        return False, Point(0.0, 0.0)\n",
    "\n",
    "@nb.njit\n",
    "def _polygon_area(polygon, length):\n",
    "    area = 0.0\n",
    "    a = Point(polygon[0][0], polygon[0][1])\n",
    "    b = Point(polygon[1][0], polygon[1][1])\n",
    "    U = Vector(b.x - a.x, b.y - a.y)\n",
    "    for i in range(2, length):\n",
    "        c = Point(polygon[i][0], polygon[i][1])\n",
    "        V = Vector(a.x - c.x, a.y - c.y)\n",
    "        area += abs(cross_product(U, V))\n",
    "        b = c\n",
    "        U = V\n",
    "    return 0.5 * area\n",
    "\n",
    "@nb.njit\n",
    "def clip_polygons(polygon, clipper):\n",
    "    n_output = len(polygon)\n",
    "    n_clip = len(clipper)\n",
    "    n_max = n_output + n_clip\n",
    "    output = np.empty((n_max, 2), FLOAT_TYPE)\n",
    "    subject = np.empty((n_max, 2), FLOAT_TYPE)\n",
    "\n",
    "    # Copy polygon into output\n",
    "    _copy(polygon, output, n_output)\n",
    "\n",
    "    # Grab last point\n",
    "    r = Point(clipper[n_clip - 1][0], clipper[n_clip - 1][1])\n",
    "    for i in range(n_clip):\n",
    "        s = Point(clipper[i][0], clipper[i][1])\n",
    "\n",
    "        U = Vector(s.x - r.x, s.y - r.y)\n",
    "        N = Vector(-U.y, U.x)\n",
    "        if U.x == 0 and U.y == 0:\n",
    "            continue\n",
    "\n",
    "        # Copy output into subject\n",
    "        length = n_output\n",
    "        _copy(output, subject, length)\n",
    "        # Reset\n",
    "        n_output = 0\n",
    "        # Grab last point\n",
    "        a = Point(subject[length - 1][0], subject[length - 1][1])\n",
    "        a_inside = _inside(a, r, U)\n",
    "        for j in range(length):\n",
    "            b = Point(subject[j][0], subject[j][1])\n",
    "\n",
    "            V = Vector(b.x - a.x, b.y - a.y)\n",
    "            if V.x == 0 and V.y == 0:\n",
    "                continue\n",
    "\n",
    "            b_inside = _inside(b, r, U)\n",
    "            if b_inside:\n",
    "                if not a_inside:  # out, or on the edge\n",
    "                    succes, point = _intersection(a, V, r, N)\n",
    "                    if succes:\n",
    "                        n_output = _push(output, n_output, point)\n",
    "                n_output = _push(output, n_output, b)\n",
    "            elif a_inside:\n",
    "                succes, point = _intersection(a, V, r, N)\n",
    "                if succes:\n",
    "                    n_output = _push(output, n_output, point)\n",
    "                else:  # Floating point failure\n",
    "                    b_inside = True  # flip it for consistency, will be set as a\n",
    "                    n_output = _push(output, n_output, b)  # push b instead\n",
    "\n",
    "            # Advance to next polygon edge\n",
    "            a = b\n",
    "            a_inside = b_inside\n",
    "\n",
    "        # Exit early in case not enough vertices are left.\n",
    "        if n_output < 3:\n",
    "            return 0.0\n",
    "\n",
    "        # Advance to next clipping edge\n",
    "        r = s\n",
    "\n",
    "    area = _polygon_area(output, n_output)\n",
    "    return area"
   ]
  },
  {
   "cell_type": "markdown",
   "metadata": {},
   "source": [
    "# Generate counter clockwise triangles"
   ]
  },
  {
   "cell_type": "code",
   "execution_count": 4,
   "metadata": {},
   "outputs": [],
   "source": [
    "@nb.njit\n",
    "def ccw(a):\n",
    "    for i in range(len(a)):\n",
    "        t = a[i]\n",
    "        normal = (t[1][0] - t[0][0])*(t[2][1]-t[0][1])-(t[1][1]-t[0][1])*(t[2][0]-t[0][0])\n",
    "\n",
    "        if normal < 0:\n",
    "            a[i] = t[::-1]\n",
    "     \n",
    "\n",
    "a = np.random.rand(1_000_000, 3, 2)\n",
    "b = np.random.rand(1_000_000, 3, 2)\n",
    "ccw(a)\n",
    "ccw(b)"
   ]
  },
  {
   "cell_type": "code",
   "execution_count": 5,
   "metadata": {},
   "outputs": [],
   "source": [
    "def _area_of_intersection(a, b):\n",
    "    n = len(a)\n",
    "    out = np.zeros(n)\n",
    "    for i in nb.prange(n):\n",
    "        t0 = a[i]\n",
    "        t1 = b[i]\n",
    "        out[i] = clip_polygons(t0, t1)\n",
    "    return out"
   ]
  },
  {
   "cell_type": "code",
   "execution_count": 6,
   "metadata": {},
   "outputs": [],
   "source": [
    "area_of_intersection = nb.njit(_area_of_intersection)"
   ]
  },
  {
   "cell_type": "code",
   "execution_count": 7,
   "metadata": {},
   "outputs": [
    {
     "name": "stdout",
     "output_type": "stream",
     "text": [
      "673 ms ± 3.35 ms per loop (mean ± std. dev. of 7 runs, 1 loop each)\n"
     ]
    }
   ],
   "source": [
    "%timeit area_of_intersection(a, b)"
   ]
  },
  {
   "cell_type": "code",
   "execution_count": 8,
   "metadata": {},
   "outputs": [],
   "source": [
    "parallel_area_of_intersection = nb.njit(_area_of_intersection, parallel=True)"
   ]
  },
  {
   "cell_type": "code",
   "execution_count": 9,
   "metadata": {},
   "outputs": [
    {
     "name": "stdout",
     "output_type": "stream",
     "text": [
      "257 ms ± 4.55 ms per loop (mean ± std. dev. of 7 runs, 1 loop each)\n"
     ]
    }
   ],
   "source": [
    "%timeit parallel_area_of_intersection(a, b)"
   ]
  }
 ],
 "metadata": {
  "kernelspec": {
   "display_name": "Python 3.7.6 64-bit ('salty': conda)",
   "language": "python",
   "name": "python37664bitsaltycondaf755b71eb5284478984b9eadde8a8258"
  },
  "language_info": {
   "codemirror_mode": {
    "name": "ipython",
    "version": 3
   },
   "file_extension": ".py",
   "mimetype": "text/x-python",
   "name": "python",
   "nbconvert_exporter": "python",
   "pygments_lexer": "ipython3",
   "version": "3.7.6"
  }
 },
 "nbformat": 4,
 "nbformat_minor": 4
}
