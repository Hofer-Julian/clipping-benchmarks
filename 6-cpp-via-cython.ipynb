{
 "cells": [
  {
   "cell_type": "markdown",
   "metadata": {},
   "source": [
    "# C++ via Cython"
   ]
  },
  {
   "cell_type": "markdown",
   "metadata": {},
   "source": [
    "This requires compiling the Cython extension first. Run ``python setup.py build_ext --inplace`` in ``./src/cplusplus``."
   ]
  },
  {
   "cell_type": "code",
   "execution_count": 1,
   "metadata": {},
   "outputs": [],
   "source": [
    "import numba as nb\n",
    "import numpy as np\n",
    "import json\n",
    "import sys\n",
    "sys.path.append('./src/cplusplus')\n",
    "from cpp_clipping import cpp_area_of_intersection"
   ]
  },
  {
   "cell_type": "code",
   "execution_count": 2,
   "metadata": {},
   "outputs": [],
   "source": [
    "a = np.load(\"triangles_a.npy\")\n",
    "b = np.load(\"triangles_b.npy\")"
   ]
  },
  {
   "cell_type": "code",
   "execution_count": 3,
   "metadata": {},
   "outputs": [
    {
     "name": "stdout",
     "output_type": "stream",
     "text": [
      "5.26 µs ± 83.9 ns per loop (mean ± std. dev. of 7 runs, 100000 loops each)\n",
      "5.81 µs ± 122 ns per loop (mean ± std. dev. of 7 runs, 100000 loops each)\n",
      "11.7 µs ± 69.3 ns per loop (mean ± std. dev. of 7 runs, 100000 loops each)\n",
      "94.3 µs ± 582 ns per loop (mean ± std. dev. of 7 runs, 10000 loops each)\n",
      "904 µs ± 7.84 µs per loop (mean ± std. dev. of 7 runs, 1000 loops each)\n",
      "8.94 ms ± 56.8 µs per loop (mean ± std. dev. of 7 runs, 100 loops each)\n",
      "92.5 ms ± 649 µs per loop (mean ± std. dev. of 7 runs, 10 loops each)\n",
      "927 ms ± 4.59 ms per loop (mean ± std. dev. of 7 runs, 1 loop each)\n"
     ]
    }
   ],
   "source": [
    "area_of_intersection = cpp_area_of_intersection\n",
    "\n",
    "times = {}\n",
    "for s in [1, 10, 100, 1_000, 10_000, 100_000, 1_000_000, 10_000_000]:\n",
    "    res = %timeit -o area_of_intersection(a[:s], b[:s])\n",
    "    times[s] = res.average\n",
    "    \n",
    "json.dump(times, open(\"timing/cython-msvc-cpp.json\", \"w\"))\n",
    "np.save(\"answers/cython-msvc-cpp.npy\", area_of_intersection(a[:10_000], b[:10_000]))"
   ]
  }
 ],
 "metadata": {
  "kernelspec": {
   "display_name": "Python 3",
   "language": "python",
   "name": "python3"
  },
  "language_info": {
   "codemirror_mode": {
    "name": "ipython",
    "version": 3
   },
   "file_extension": ".py",
   "mimetype": "text/x-python",
   "name": "python",
   "nbconvert_exporter": "python",
   "pygments_lexer": "ipython3",
   "version": "3.7.6"
  }
 },
 "nbformat": 4,
 "nbformat_minor": 4
}
