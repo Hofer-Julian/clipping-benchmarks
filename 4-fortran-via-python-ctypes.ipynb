{
 "cells": [
  {
   "cell_type": "code",
   "execution_count": 1,
   "metadata": {},
   "outputs": [],
   "source": [
    "import ctypes\n",
    "import numpy as np\n",
    "import json"
   ]
  },
  {
   "cell_type": "code",
   "execution_count": 2,
   "metadata": {},
   "outputs": [],
   "source": [
    "a = np.load(\"triangles_a.npy\")\n",
    "b = np.load(\"triangles_b.npy\")"
   ]
  },
  {
   "cell_type": "code",
   "execution_count": 3,
   "metadata": {},
   "outputs": [],
   "source": [
    "ifortlib = ctypes.CDLL(\"./src/fortran/ifort_clipping.dll\")\n",
    "def ifort_area_of_intersection(a, b):\n",
    "    ntriangles, nvertex, ndim = a.shape\n",
    "    out = np.empty(ntriangles, dtype=np.float64)\n",
    "    function = ifortlib.area_of_intersection\n",
    "    function(\n",
    "        ctypes.pointer(ctypes.c_longlong(ndim)),\n",
    "        ctypes.pointer(ctypes.c_longlong(nvertex)),\n",
    "        ctypes.pointer(ctypes.c_longlong(ntriangles)),\n",
    "        np.ctypeslib.as_ctypes(a),\n",
    "        np.ctypeslib.as_ctypes(b),\n",
    "        np.ctypeslib.as_ctypes(out),\n",
    "    )\n",
    "    return out\n",
    "\n",
    "gfortranlib = ctypes.CDLL(\"./src/fortran/gfortran_clipping.dll\")\n",
    "def gfortran_area_of_intersection(a, b):\n",
    "    ntriangles, nvertex, ndim = a.shape\n",
    "    out = np.empty(ntriangles, dtype=np.float64)\n",
    "    function = gfortranlib.area_of_intersection\n",
    "    function(\n",
    "        ctypes.pointer(ctypes.c_longlong(ndim)),\n",
    "        ctypes.pointer(ctypes.c_longlong(nvertex)),\n",
    "        ctypes.pointer(ctypes.c_longlong(ntriangles)),\n",
    "        np.ctypeslib.as_ctypes(a),\n",
    "        np.ctypeslib.as_ctypes(b),\n",
    "        np.ctypeslib.as_ctypes(out),\n",
    "    )\n",
    "    return out"
   ]
  },
  {
   "cell_type": "code",
   "execution_count": 4,
   "metadata": {},
   "outputs": [
    {
     "name": "stdout",
     "output_type": "stream",
     "text": [
      "27.2 µs ± 622 ns per loop (mean ± std. dev. of 7 runs, 10000 loops each)\n",
      "27.7 µs ± 243 ns per loop (mean ± std. dev. of 7 runs, 10000 loops each)\n",
      "36.2 µs ± 918 ns per loop (mean ± std. dev. of 7 runs, 10000 loops each)\n",
      "138 µs ± 3.76 µs per loop (mean ± std. dev. of 7 runs, 10000 loops each)\n",
      "1.16 ms ± 4.49 µs per loop (mean ± std. dev. of 7 runs, 1000 loops each)\n",
      "11.3 ms ± 78.5 µs per loop (mean ± std. dev. of 7 runs, 100 loops each)\n",
      "117 ms ± 1.73 ms per loop (mean ± std. dev. of 7 runs, 10 loops each)\n",
      "1.17 s ± 6.27 ms per loop (mean ± std. dev. of 7 runs, 1 loop each)\n"
     ]
    }
   ],
   "source": [
    "area_of_intersection = ifort_area_of_intersection\n",
    "\n",
    "times = {}\n",
    "for s in [1, 10, 100, 1_000, 10_000, 100_000, 1_000_000, 10_000_000]:\n",
    "    res = %timeit -o area_of_intersection(a[:s], b[:s])\n",
    "    times[s] = res.average\n",
    "    \n",
    "json.dump(times, open(\"timing/python-ifort.json\", \"w\"))\n",
    "np.save(\"answers/python-ifort.npy\", area_of_intersection(a[:10_000], b[:10_000]))"
   ]
  },
  {
   "cell_type": "code",
   "execution_count": 5,
   "metadata": {},
   "outputs": [
    {
     "name": "stdout",
     "output_type": "stream",
     "text": [
      "28.1 µs ± 480 ns per loop (mean ± std. dev. of 7 runs, 10000 loops each)\n",
      "29.7 µs ± 258 ns per loop (mean ± std. dev. of 7 runs, 10000 loops each)\n",
      "48.5 µs ± 1.11 µs per loop (mean ± std. dev. of 7 runs, 10000 loops each)\n",
      "244 µs ± 2.6 µs per loop (mean ± std. dev. of 7 runs, 1000 loops each)\n",
      "2.16 ms ± 18.3 µs per loop (mean ± std. dev. of 7 runs, 100 loops each)\n",
      "21.6 ms ± 686 µs per loop (mean ± std. dev. of 7 runs, 10 loops each)\n",
      "221 ms ± 2.98 ms per loop (mean ± std. dev. of 7 runs, 1 loop each)\n",
      "2.18 s ± 25.8 ms per loop (mean ± std. dev. of 7 runs, 1 loop each)\n"
     ]
    }
   ],
   "source": [
    "area_of_intersection = gfortran_area_of_intersection\n",
    "\n",
    "times = {}\n",
    "for s in [1, 10, 100, 1_000, 10_000, 100_000, 1_000_000, 10_000_000]:\n",
    "    res = %timeit -o area_of_intersection(a[:s], b[:s])\n",
    "    times[s] = res.average\n",
    "    \n",
    "json.dump(times, open(\"timing/python-gfortran.json\", \"w\"))\n",
    "np.save(\"answers/python-gfortran.npy\", area_of_intersection(a[:10_000], b[:10_000]))"
   ]
  }
 ],
 "metadata": {
  "kernelspec": {
   "display_name": "Python 3.7.6 64-bit ('salty': conda)",
   "language": "python",
   "name": "python37664bitsaltycondaf755b71eb5284478984b9eadde8a8258"
  },
  "language_info": {
   "codemirror_mode": {
    "name": "ipython",
    "version": 3
   },
   "file_extension": ".py",
   "mimetype": "text/x-python",
   "name": "python",
   "nbconvert_exporter": "python",
   "pygments_lexer": "ipython3",
   "version": "3.7.6"
  }
 },
 "nbformat": 4,
 "nbformat_minor": 4
}
