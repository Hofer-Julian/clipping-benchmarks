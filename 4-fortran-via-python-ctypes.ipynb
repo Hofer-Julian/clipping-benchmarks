{
 "cells": [
  {
   "cell_type": "code",
   "execution_count": 1,
   "metadata": {},
   "outputs": [],
   "source": [
    "import ctypes\n",
    "import numpy as np\n",
    "import json"
   ]
  },
  {
   "cell_type": "code",
   "execution_count": 2,
   "metadata": {},
   "outputs": [],
   "source": [
    "a = np.load(\"triangles_a.npy\")\n",
    "b = np.load(\"triangles_b.npy\")"
   ]
  },
  {
   "cell_type": "code",
   "execution_count": 3,
   "metadata": {},
   "outputs": [],
   "source": [
    "ifortlib = ctypes.CDLL(\"./src/fortran/ifort_clipping.dll\")\n",
    "def ifort_area_of_intersection(a, b):\n",
    "    ntriangles, nvertex, ndim = a.shape\n",
    "    out = np.empty(ntriangles, dtype=np.float64)\n",
    "    function = ifortlib.area_of_intersection\n",
    "    function(\n",
    "        ctypes.pointer(ctypes.c_longlong(ndim)),\n",
    "        ctypes.pointer(ctypes.c_longlong(nvertex)),\n",
    "        ctypes.pointer(ctypes.c_longlong(ntriangles)),\n",
    "        np.ctypeslib.as_ctypes(a),\n",
    "        np.ctypeslib.as_ctypes(b),\n",
    "        np.ctypeslib.as_ctypes(out),\n",
    "    )\n",
    "    return out\n",
    "\n",
    "gfortranlib = ctypes.CDLL(\"./src/fortran/gfortran_clipping.dll\")\n",
    "def gfortran_area_of_intersection(a, b):\n",
    "    ntriangles, nvertex, ndim = a.shape\n",
    "    out = np.empty(ntriangles, dtype=np.float64)\n",
    "    function = gfortranlib.area_of_intersection\n",
    "    function(\n",
    "        ctypes.pointer(ctypes.c_longlong(ndim)),\n",
    "        ctypes.pointer(ctypes.c_longlong(nvertex)),\n",
    "        ctypes.pointer(ctypes.c_longlong(ntriangles)),\n",
    "        np.ctypeslib.as_ctypes(a),\n",
    "        np.ctypeslib.as_ctypes(b),\n",
    "        np.ctypeslib.as_ctypes(out),\n",
    "    )\n",
    "    return out"
   ]
  },
  {
   "cell_type": "code",
   "execution_count": 4,
   "metadata": {},
   "outputs": [
    {
     "name": "stdout",
     "output_type": "stream",
     "text": [
      "23.8 µs ± 750 ns per loop (mean ± std. dev. of 7 runs, 10000 loops each)\n",
      "24.3 µs ± 306 ns per loop (mean ± std. dev. of 7 runs, 10000 loops each)\n",
      "30.9 µs ± 335 ns per loop (mean ± std. dev. of 7 runs, 10000 loops each)\n",
      "126 µs ± 1.94 µs per loop (mean ± std. dev. of 7 runs, 10000 loops each)\n",
      "1.04 ms ± 2.42 µs per loop (mean ± std. dev. of 7 runs, 1000 loops each)\n",
      "10.2 ms ± 59 µs per loop (mean ± std. dev. of 7 runs, 100 loops each)\n",
      "106 ms ± 1.17 ms per loop (mean ± std. dev. of 7 runs, 10 loops each)\n",
      "1.06 s ± 23.9 ms per loop (mean ± std. dev. of 7 runs, 1 loop each)\n"
     ]
    }
   ],
   "source": [
    "area_of_intersection = ifort_area_of_intersection\n",
    "\n",
    "times = {}\n",
    "for s in [1, 10, 100, 1_000, 10_000, 100_000, 1_000_000, 10_000_000]:\n",
    "    res = %timeit -o area_of_intersection(a[:s], b[:s])\n",
    "    times[s] = res.average\n",
    "    \n",
    "json.dump(times, open(\"timing/python-ifort.json\", \"w\"))\n",
    "np.save(\"answers/python-ifort.npy\", area_of_intersection(a[:10_000], b[:10_000]))"
   ]
  },
  {
   "cell_type": "code",
   "execution_count": 5,
   "metadata": {},
   "outputs": [
    {
     "name": "stdout",
     "output_type": "stream",
     "text": [
      "23.7 µs ± 752 ns per loop (mean ± std. dev. of 7 runs, 10000 loops each)\n",
      "25.1 µs ± 214 ns per loop (mean ± std. dev. of 7 runs, 10000 loops each)\n",
      "44.8 µs ± 1.63 µs per loop (mean ± std. dev. of 7 runs, 10000 loops each)\n",
      "221 µs ± 2.76 µs per loop (mean ± std. dev. of 7 runs, 1000 loops each)\n",
      "2.13 ms ± 53.2 µs per loop (mean ± std. dev. of 7 runs, 1000 loops each)\n",
      "20.8 ms ± 113 µs per loop (mean ± std. dev. of 7 runs, 10 loops each)\n",
      "210 ms ± 1.57 ms per loop (mean ± std. dev. of 7 runs, 1 loop each)\n",
      "2.12 s ± 18.8 ms per loop (mean ± std. dev. of 7 runs, 1 loop each)\n"
     ]
    }
   ],
   "source": [
    "area_of_intersection = gfortran_area_of_intersection\n",
    "\n",
    "times = {}\n",
    "for s in [1, 10, 100, 1_000, 10_000, 100_000, 1_000_000, 10_000_000]:\n",
    "    res = %timeit -o area_of_intersection(a[:s], b[:s])\n",
    "    times[s] = res.average\n",
    "    \n",
    "json.dump(times, open(\"timing/python-gfortran.json\", \"w\"))\n",
    "np.save(\"answers/python-gfortran.npy\", area_of_intersection(a[:10_000], b[:10_000]))"
   ]
  }
 ],
 "metadata": {
  "kernelspec": {
   "display_name": "Python 3.7.6 64-bit ('salty': conda)",
   "language": "python",
   "name": "python37664bitsaltycondaf755b71eb5284478984b9eadde8a8258"
  },
  "language_info": {
   "codemirror_mode": {
    "name": "ipython",
    "version": 3
   },
   "file_extension": ".py",
   "mimetype": "text/x-python",
   "name": "python",
   "nbconvert_exporter": "python",
   "pygments_lexer": "ipython3",
   "version": "3.7.6"
  }
 },
 "nbformat": 4,
 "nbformat_minor": 4
}
