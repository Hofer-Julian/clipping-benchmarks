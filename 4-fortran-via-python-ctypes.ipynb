{
 "cells": [
  {
   "cell_type": "code",
   "execution_count": 1,
   "metadata": {},
   "outputs": [],
   "source": [
    "import ctypes\n",
    "import numpy as np"
   ]
  },
  {
   "cell_type": "code",
   "execution_count": 2,
   "metadata": {},
   "outputs": [],
   "source": [
    "a = np.load(\"triangles_a.npy\")\n",
    "b = np.load(\"triangles_b.npy\")"
   ]
  },
  {
   "cell_type": "code",
   "execution_count": 3,
   "metadata": {},
   "outputs": [],
   "source": [
    "ifortlib = ctypes.CDLL(\"./src/fortran/ifort_clipping.dll\")\n",
    "def ifort_area_of_intersection(a, b):\n",
    "    ntriangles, nvertex, ndim = a.shape\n",
    "    out = np.empty(ntriangles, dtype=np.float64)\n",
    "    function = ifortlib.area_of_intersection\n",
    "    function(\n",
    "        ctypes.pointer(ctypes.c_longlong(ndim)),\n",
    "        ctypes.pointer(ctypes.c_longlong(nvertex)),\n",
    "        ctypes.pointer(ctypes.c_longlong(ntriangles)),\n",
    "        np.ctypeslib.as_ctypes(a),\n",
    "        np.ctypeslib.as_ctypes(b),\n",
    "        np.ctypeslib.as_ctypes(out),\n",
    "    )\n",
    "    return out\n",
    "\n",
    "gfortranlib = ctypes.CDLL(\"./src/fortran/gfortran_clipping.dll\")\n",
    "def gfortran_area_of_intersection(a, b):\n",
    "    ntriangles, nvertex, ndim = a.shape\n",
    "    out = np.empty(ntriangles, dtype=np.float64)\n",
    "    function = gfortranlib.area_of_intersection\n",
    "    function(\n",
    "        ctypes.pointer(ctypes.c_longlong(ndim)),\n",
    "        ctypes.pointer(ctypes.c_longlong(nvertex)),\n",
    "        ctypes.pointer(ctypes.c_longlong(ntriangles)),\n",
    "        np.ctypeslib.as_ctypes(a),\n",
    "        np.ctypeslib.as_ctypes(b),\n",
    "        np.ctypeslib.as_ctypes(out),\n",
    "    )\n",
    "    return out"
   ]
  },
  {
   "cell_type": "code",
   "execution_count": 4,
   "metadata": {},
   "outputs": [
    {
     "name": "stdout",
     "output_type": "stream",
     "text": [
      "115 ms ± 1.99 ms per loop (mean ± std. dev. of 7 runs, 10 loops each)\n"
     ]
    }
   ],
   "source": [
    "%timeit ifort_area_of_intersection(a, b)"
   ]
  },
  {
   "cell_type": "code",
   "execution_count": 5,
   "metadata": {},
   "outputs": [
    {
     "name": "stdout",
     "output_type": "stream",
     "text": [
      "214 ms ± 3.27 ms per loop (mean ± std. dev. of 7 runs, 1 loop each)\n"
     ]
    }
   ],
   "source": [
    "%timeit gfortran_area_of_intersection(a, b)"
   ]
  }
 ],
 "metadata": {
  "kernelspec": {
   "display_name": "Python 3.7.6 64-bit ('salty': conda)",
   "language": "python",
   "name": "python37664bitsaltycondaf755b71eb5284478984b9eadde8a8258"
  },
  "language_info": {
   "codemirror_mode": {
    "name": "ipython",
    "version": 3
   },
   "file_extension": ".py",
   "mimetype": "text/x-python",
   "name": "python",
   "nbconvert_exporter": "python",
   "pygments_lexer": "ipython3",
   "version": "3.7.6"
  }
 },
 "nbformat": 4,
 "nbformat_minor": 4
}
