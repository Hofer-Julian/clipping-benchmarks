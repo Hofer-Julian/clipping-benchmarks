{
 "cells": [
  {
   "cell_type": "code",
   "execution_count": 1,
   "metadata": {},
   "outputs": [],
   "source": [
    "import numpy as np\n",
    "import shapely.geometry as sg\n",
    "import json"
   ]
  },
  {
   "cell_type": "code",
   "execution_count": 2,
   "metadata": {},
   "outputs": [],
   "source": [
    "def area_of_intersection(a, b):\n",
    "    ntriangles = a.shape[0]\n",
    "    out = np.empty(ntriangles, dtype=np.float64)\n",
    "    for i in range(ntriangles):\n",
    "        aa = sg.Polygon(a[i])\n",
    "        bb = sg.Polygon(b[i])\n",
    "        out[i] = aa.intersection(bb).area\n",
    "    return out"
   ]
  },
  {
   "cell_type": "code",
   "execution_count": 3,
   "metadata": {},
   "outputs": [],
   "source": [
    "a = np.load(\"triangles_a.npy\")\n",
    "b = np.load(\"triangles_b.npy\")"
   ]
  },
  {
   "cell_type": "code",
   "execution_count": 4,
   "metadata": {},
   "outputs": [
    {
     "name": "stdout",
     "output_type": "stream",
     "text": [
      "72.8 µs ± 3.3 µs per loop (mean ± std. dev. of 7 runs, 10000 loops each)\n",
      "962 µs ± 11.6 µs per loop (mean ± std. dev. of 7 runs, 1000 loops each)\n",
      "11.5 ms ± 131 µs per loop (mean ± std. dev. of 7 runs, 100 loops each)\n",
      "118 ms ± 2.63 ms per loop (mean ± std. dev. of 7 runs, 10 loops each)\n",
      "1.2 s ± 9.9 ms per loop (mean ± std. dev. of 7 runs, 1 loop each)\n",
      "13.4 s ± 160 ms per loop (mean ± std. dev. of 7 runs, 1 loop each)\n"
     ]
    }
   ],
   "source": [
    "times = {}\n",
    "for s in [1, 10, 100, 1_000, 10_000, 100_000]:\n",
    "    res = %timeit -o area_of_intersection(a[:s], b[:s])\n",
    "    times[s] = res.average\n",
    "    \n",
    "json.dump(times, open(\"timing/shapely.json\", \"w\"))\n",
    "np.save(\"answers/shapely.npy\", area_of_intersection(a[:10_000], b[:10_000]))"
   ]
  }
 ],
 "metadata": {
  "kernelspec": {
   "display_name": "Python 3.7.6 64-bit ('salty': conda)",
   "language": "python",
   "name": "python37664bitsaltycondaf755b71eb5284478984b9eadde8a8258"
  },
  "language_info": {
   "codemirror_mode": {
    "name": "ipython",
    "version": 3
   },
   "file_extension": ".py",
   "mimetype": "text/x-python",
   "name": "python",
   "nbconvert_exporter": "python",
   "pygments_lexer": "ipython3",
   "version": "3.7.6"
  }
 },
 "nbformat": 4,
 "nbformat_minor": 4
}
