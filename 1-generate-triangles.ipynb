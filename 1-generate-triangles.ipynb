{
 "cells": [
  {
   "cell_type": "code",
   "execution_count": 1,
   "metadata": {},
   "outputs": [],
   "source": [
    "import numpy as np\n",
    "import numba as nb"
   ]
  },
  {
   "cell_type": "markdown",
   "metadata": {},
   "source": [
    "For the implementation of the clipping algorithms in this repository, counter-clockwise oriented triangles are assumed.\n",
    "\n",
    "We'll store a million triangles to make sure the tests with only a few triangles are commensurate."
   ]
  },
  {
   "cell_type": "code",
   "execution_count": 2,
   "metadata": {},
   "outputs": [],
   "source": [
    "@nb.njit\n",
    "def ccw(a):\n",
    "    for i in range(len(a)):\n",
    "        t = a[i]\n",
    "        normal = (t[1][0] - t[0][0])*(t[2][1]-t[0][1])-(t[1][1]-t[0][1])*(t[2][0]-t[0][0])\n",
    "\n",
    "        if normal < 0:\n",
    "            a[i] = t[::-1]\n",
    "     \n",
    "\n",
    "a = np.random.rand(1_000_000, 3, 2)\n",
    "b = np.random.rand(1_000_000, 3, 2)\n",
    "ccw(a)\n",
    "ccw(b)"
   ]
  },
  {
   "cell_type": "code",
   "execution_count": 3,
   "metadata": {},
   "outputs": [],
   "source": [
    "np.save(\"triangles_a.npy\", a)\n",
    "np.save(\"triangles_b.npy\", b)"
   ]
  }
 ],
 "metadata": {
  "kernelspec": {
   "display_name": "Python 3",
   "language": "python",
   "name": "python3"
  },
  "language_info": {
   "codemirror_mode": {
    "name": "ipython",
    "version": 3
   },
   "file_extension": ".py",
   "mimetype": "text/x-python",
   "name": "python",
   "nbconvert_exporter": "python",
   "pygments_lexer": "ipython3",
   "version": "3.7.6"
  }
 },
 "nbformat": 4,
 "nbformat_minor": 4
}
