{
 "cells": [
  {
   "cell_type": "code",
   "execution_count": 1,
   "metadata": {},
   "outputs": [],
   "source": [
    "using BenchmarkTools"
   ]
  },
  {
   "cell_type": "markdown",
   "metadata": {},
   "source": [
    "Compile it with ifort, and check the exported symbols:\n",
    "```\n",
    "call \"c:\\Program Files (x86)\\IntelSWTools\\compilers_and_libraries_2019.5.281\\windows\\bin\\ifortvars.bat\" intel64\n",
    "ifort -O2 /dll clipping.f90\n",
    "DUMPBIN /exports clipping.dll\n",
    "```"
   ]
  },
  {
   "cell_type": "code",
   "execution_count": 2,
   "metadata": {},
   "outputs": [
    {
     "data": {
      "text/plain": [
       "area_of_intersection (generic function with 1 method)"
      ]
     },
     "execution_count": 2,
     "metadata": {},
     "output_type": "execute_result"
    }
   ],
   "source": [
    "function area_of_intersection(a, b)\n",
    "    ndim, nvertex, ntriangles = size(a)\n",
    "    out = Vector{Float64}(undef, ntriangles)\n",
    "    ccall(\n",
    "        (:SUTHERLAND_HODGMAN_mp_AREA_OF_INTERSECTION, \"./src/fortran/clipping.dll\"),\n",
    "        Nothing,\n",
    "        (Ptr{Int64}, Ptr{Int64}, Ptr{Int64}, Ptr{Float64}, Ptr{Float64}, Ptr{Float64}),\n",
    "        Ref(ndim), Ref(nvertex), Ref(ntriangles), a, b, out,\n",
    "    )\n",
    "    return out\n",
    "end"
   ]
  },
  {
   "cell_type": "code",
   "execution_count": 3,
   "metadata": {},
   "outputs": [],
   "source": [
    "function ccw!(a)\n",
    "    n = size(a)[end]\n",
    "    \n",
    "    for i in 1:n\n",
    "        t = a[:, :, i]\n",
    "        normal = (t[1, 2] - t[1, 1])*(t[2, 3]-t[2, 1])-(t[2, 2]-t[2, 1])*(t[1, 3]-t[1, 1])\n",
    "\n",
    "        if normal < 0\n",
    "            a[:, :, i] .= reverse(t, dims=2)\n",
    "        end         \n",
    "    end\n",
    "end\n",
    "\n",
    "a = rand(2, 3, 1000000)\n",
    "b = rand(2, 3, 1000000)\n",
    "ccw!(a)\n",
    "ccw!(b)"
   ]
  },
  {
   "cell_type": "code",
   "execution_count": 4,
   "metadata": {},
   "outputs": [
    {
     "name": "stdout",
     "output_type": "stream",
     "text": [
      "  109.394 ms (2 allocations: 7.63 MiB)\n"
     ]
    },
    {
     "data": {
      "text/plain": [
       "1000000-element Array{Float64,1}:\n",
       " 0.0                  \n",
       " 0.0                  \n",
       " 0.0                  \n",
       " 0.006465156978919396 \n",
       " 0.0                  \n",
       " 0.0                  \n",
       " 0.0                  \n",
       " 0.0                  \n",
       " 0.002674764922565896 \n",
       " 0.0                  \n",
       " 0.008159821809748776 \n",
       " 0.0041256631173297595\n",
       " 0.08427987663436645  \n",
       " ⋮                    \n",
       " 0.025755665204455085 \n",
       " 0.029806514418248577 \n",
       " 0.0                  \n",
       " 0.0005411828441671707\n",
       " 0.03094450651451533  \n",
       " 0.0                  \n",
       " 4.6029137721000114e-5\n",
       " 0.0                  \n",
       " 0.0022481726737602495\n",
       " 0.011791581751828402 \n",
       " 0.050894814005172595 \n",
       " 0.004642206136832096 "
      ]
     },
     "execution_count": 4,
     "metadata": {},
     "output_type": "execute_result"
    }
   ],
   "source": [
    "@btime area_of_intersection(a, b)"
   ]
  }
 ],
 "metadata": {
  "kernelspec": {
   "display_name": "Julia 1.3.1",
   "language": "julia",
   "name": "julia-1.3"
  },
  "language_info": {
   "file_extension": ".jl",
   "mimetype": "application/julia",
   "name": "julia",
   "version": "1.3.1"
  }
 },
 "nbformat": 4,
 "nbformat_minor": 4
}
