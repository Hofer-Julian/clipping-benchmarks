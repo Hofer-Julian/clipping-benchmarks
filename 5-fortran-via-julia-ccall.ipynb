{
 "cells": [
  {
   "cell_type": "code",
   "execution_count": 1,
   "metadata": {},
   "outputs": [],
   "source": [
    "using BenchmarkTools\n",
    "using NPZ"
   ]
  },
  {
   "cell_type": "markdown",
   "metadata": {},
   "source": [
    "Compile it with ifort, and check the exported symbols:\n",
    "```\n",
    "call \"c:\\Program Files (x86)\\IntelSWTools\\compilers_and_libraries_2019.5.281\\windows\\bin\\ifortvars.bat\" intel64\n",
    "ifort -O2 /dll clipping.f90 -o ifort_clipping.dll\n",
    "DUMPBIN /exports clipping.dll\n",
    "```\n",
    "\n",
    "If not on Windows, maybe add `-static-intel`, i.e.:\n",
    "```\n",
    "ifort -O2 /dll -static-intel clipping.f90 -o ifort_clipping.dll\n",
    "```\n",
    "\n",
    "Install MinGW for gfortran, make sure to link libgfortran statically or the DLL will not be accepted.\n",
    "```\n",
    "gfortran -O2 -shared -static-libgfortran clipping.f90 -o gfortran_clipping.dll\n",
    "```"
   ]
  },
  {
   "cell_type": "code",
   "execution_count": 2,
   "metadata": {},
   "outputs": [
    {
     "data": {
      "text/plain": [
       "gfortran_area_of_intersection (generic function with 1 method)"
      ]
     },
     "execution_count": 2,
     "metadata": {},
     "output_type": "execute_result"
    }
   ],
   "source": [
    "function ifort_area_of_intersection(a, b)\n",
    "    ndim, nvertex, ntriangles = size(a)\n",
    "    out = Vector{Float64}(undef, ntriangles)\n",
    "    ccall(\n",
    "        (:area_of_intersection, \"./src/fortran/ifort_clipping.dll\"),\n",
    "        Nothing,\n",
    "        (Ptr{Int64}, Ptr{Int64}, Ptr{Int64}, Ptr{Float64}, Ptr{Float64}, Ptr{Float64}),\n",
    "        Ref(ndim), Ref(nvertex), Ref(ntriangles), a, b, out,\n",
    "    )\n",
    "    return out\n",
    "end\n",
    "\n",
    "function gfortran_area_of_intersection(a, b)\n",
    "    ndim, nvertex, ntriangles = size(a)\n",
    "    out = Vector{Float64}(undef, ntriangles)\n",
    "    ccall(\n",
    "        (:area_of_intersection, \"./src/fortran/gfortran_clipping.dll\"),\n",
    "        Nothing,\n",
    "        (Ptr{Int64}, Ptr{Int64}, Ptr{Int64}, Ptr{Float64}, Ptr{Float64}, Ptr{Float64}),\n",
    "        Ref(ndim), Ref(nvertex), Ref(ntriangles), a, b, out,\n",
    "    )\n",
    "    return out\n",
    "end"
   ]
  },
  {
   "cell_type": "code",
   "execution_count": 3,
   "metadata": {},
   "outputs": [
    {
     "data": {
      "text/plain": [
       "2×3×1000000 Array{Float64,3}:\n",
       "[:, :, 1] =\n",
       " 0.13943   0.20051   0.0433536\n",
       " 0.141259  0.103664  0.345891 \n",
       "\n",
       "[:, :, 2] =\n",
       " 0.638903  0.859061  0.286762\n",
       " 0.725644  0.911425  0.768978\n",
       "\n",
       "[:, :, 3] =\n",
       " 0.127354  0.668901  0.166028\n",
       " 0.614252  0.977322  0.912566\n",
       "\n",
       "...\n",
       "\n",
       "[:, :, 999998] =\n",
       " 0.163299  0.918414  0.731335\n",
       " 0.846918  0.664982  0.812965\n",
       "\n",
       "[:, :, 999999] =\n",
       " 0.581572  0.0160035  0.949833\n",
       " 0.862413  0.445922   0.728067\n",
       "\n",
       "[:, :, 1000000] =\n",
       " 0.932028  0.104979  0.533061\n",
       " 0.607966  0.153133  0.193289"
      ]
     },
     "execution_count": 3,
     "metadata": {},
     "output_type": "execute_result"
    }
   ],
   "source": [
    "a = permutedims(npzread(\"triangles_a.npy\"), (3, 2, 1))\n",
    "b = permutedims(npzread(\"triangles_b.npy\"), (3, 2, 1))"
   ]
  },
  {
   "cell_type": "code",
   "execution_count": 4,
   "metadata": {},
   "outputs": [
    {
     "name": "stdout",
     "output_type": "stream",
     "text": [
      "  111.258 ms (2 allocations: 7.63 MiB)"
     ]
    },
    {
     "data": {
      "text/plain": [
       "1000000-element Array{Float64,1}:\n",
       " 0.0                  \n",
       " 0.0                  \n",
       " 0.0015428417818308345\n",
       " 0.0116674946363678   \n",
       " 0.0                  \n",
       " 0.012820796709396648 \n",
       " 0.015439009483970728 \n",
       " 0.0011013956528890018\n",
       " 0.01195865718660706  \n",
       " 0.01127765391313546  \n",
       " 0.0                  \n",
       " 0.009645649033342713 \n",
       " 0.03162643130242185  \n",
       " ⋮                    \n",
       " 0.00952080431982822  \n",
       " 0.0010082222361460235\n",
       " 0.0                  \n",
       " 0.01320632733056133  \n",
       " 0.03502262207396337  \n",
       " 0.0                  \n",
       " 0.0                  \n",
       " 0.0                  \n",
       " 0.021154967845624113 \n",
       " 5.482193249288619e-7 \n",
       " 0.019657919361185133 \n",
       " 0.01220281881976658  "
      ]
     },
     "execution_count": 4,
     "metadata": {},
     "output_type": "execute_result"
    },
    {
     "name": "stdout",
     "output_type": "stream",
     "text": [
      "\n"
     ]
    }
   ],
   "source": [
    "@btime ifort_area_of_intersection(a, b)"
   ]
  },
  {
   "cell_type": "code",
   "execution_count": 5,
   "metadata": {},
   "outputs": [
    {
     "name": "stdout",
     "output_type": "stream",
     "text": [
      "  196.328 ms (2 allocations: 7.63 MiB)\n"
     ]
    },
    {
     "data": {
      "text/plain": [
       "1000000-element Array{Float64,1}:\n",
       " 0.0                  \n",
       " 0.0                  \n",
       " 0.0015428417818308345\n",
       " 0.0116674946363678   \n",
       " 0.0                  \n",
       " 0.012820796709396648 \n",
       " 0.015439009483970728 \n",
       " 0.0011013956528890018\n",
       " 0.01195865718660706  \n",
       " 0.01127765391313546  \n",
       " 0.0                  \n",
       " 0.009645649033342713 \n",
       " 0.03162643130242185  \n",
       " ⋮                    \n",
       " 0.00952080431982822  \n",
       " 0.0010082222361460235\n",
       " 0.0                  \n",
       " 0.01320632733056133  \n",
       " 0.03502262207396337  \n",
       " 0.0                  \n",
       " 0.0                  \n",
       " 0.0                  \n",
       " 0.021154967845624113 \n",
       " 5.482193249288619e-7 \n",
       " 0.019657919361185133 \n",
       " 0.01220281881976658  "
      ]
     },
     "execution_count": 5,
     "metadata": {},
     "output_type": "execute_result"
    }
   ],
   "source": [
    "@btime gfortran_area_of_intersection(a, b)"
   ]
  }
 ],
 "metadata": {
  "kernelspec": {
   "display_name": "Julia 1.3.1",
   "language": "julia",
   "name": "julia-1.3"
  },
  "language_info": {
   "file_extension": ".jl",
   "mimetype": "application/julia",
   "name": "julia",
   "version": "1.3.1"
  }
 },
 "nbformat": 4,
 "nbformat_minor": 4
}
