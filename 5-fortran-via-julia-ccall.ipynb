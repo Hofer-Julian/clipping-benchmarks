{
 "cells": [
  {
   "cell_type": "code",
   "execution_count": 1,
   "metadata": {},
   "outputs": [],
   "source": [
    "using BenchmarkTools\n",
    "using NPZ\n",
    "using JSON"
   ]
  },
  {
   "cell_type": "markdown",
   "metadata": {},
   "source": [
    "Compile it with ifort, and check the exported symbols:\n",
    "```\n",
    "call \"c:\\Program Files (x86)\\IntelSWTools\\compilers_and_libraries_2019.5.281\\windows\\bin\\ifortvars.bat\" intel64\n",
    "ifort -O2 /dll clipping.f90 -o ifort_clipping.dll\n",
    "DUMPBIN /exports clipping.dll\n",
    "```\n",
    "\n",
    "If not on Windows, maybe add `-static-intel`, i.e.:\n",
    "```\n",
    "ifort -O2 /dll -static-intel clipping.f90 -o ifort_clipping.dll\n",
    "```\n",
    "\n",
    "Install MinGW for gfortran, make sure to link libgfortran statically or the DLL will not be accepted.\n",
    "```\n",
    "gfortran -O2 -shared -static-libgfortran clipping.f90 -o gfortran_clipping.dll\n",
    "```"
   ]
  },
  {
   "cell_type": "code",
   "execution_count": 2,
   "metadata": {},
   "outputs": [
    {
     "data": {
      "text/plain": [
       "gfortran_area_of_intersection (generic function with 1 method)"
      ]
     },
     "execution_count": 2,
     "metadata": {},
     "output_type": "execute_result"
    }
   ],
   "source": [
    "function ifort_area_of_intersection(a, b)\n",
    "    ndim, nvertex, ntriangles = size(a)\n",
    "    out = Vector{Float64}(undef, ntriangles)\n",
    "    ccall(\n",
    "        (:area_of_intersection, \"./src/fortran/ifort_clipping.dll\"),\n",
    "        Nothing,\n",
    "        (Ptr{Int64}, Ptr{Int64}, Ptr{Int64}, Ptr{Float64}, Ptr{Float64}, Ptr{Float64}),\n",
    "        Ref(ndim), Ref(nvertex), Ref(ntriangles), a, b, out,\n",
    "    )\n",
    "    return out\n",
    "end\n",
    "\n",
    "function gfortran_area_of_intersection(a, b)\n",
    "    ndim, nvertex, ntriangles = size(a)\n",
    "    out = Vector{Float64}(undef, ntriangles)\n",
    "    ccall(\n",
    "        (:area_of_intersection, \"./src/fortran/gfortran_clipping.dll\"),\n",
    "        Nothing,\n",
    "        (Ptr{Int64}, Ptr{Int64}, Ptr{Int64}, Ptr{Float64}, Ptr{Float64}, Ptr{Float64}),\n",
    "        Ref(ndim), Ref(nvertex), Ref(ntriangles), a, b, out,\n",
    "    )\n",
    "    return out\n",
    "end"
   ]
  },
  {
   "cell_type": "code",
   "execution_count": 3,
   "metadata": {},
   "outputs": [
    {
     "data": {
      "text/plain": [
       "2×3×10000000 Array{Float64,3}:\n",
       "[:, :, 1] =\n",
       " 0.569679   0.593738   0.447445  \n",
       " 0.0357082  0.0752075  0.00638897\n",
       "\n",
       "[:, :, 2] =\n",
       " 0.422911  0.871233  0.625924\n",
       " 0.573643  0.930234  0.810233\n",
       "\n",
       "[:, :, 3] =\n",
       " 0.91546   0.185819  0.695099\n",
       " 0.227005  0.354787  0.227898\n",
       "\n",
       "...\n",
       "\n",
       "[:, :, 9999998] =\n",
       " 0.0961949  0.171892  0.414149\n",
       " 0.191146   0.15893   0.388838\n",
       "\n",
       "[:, :, 9999999] =\n",
       " 0.438089  0.643506  0.106764\n",
       " 0.280221  0.529563  0.763313\n",
       "\n",
       "[:, :, 10000000] =\n",
       " 0.766416  0.0420939  0.50417 \n",
       " 0.59956   0.849241   0.471104"
      ]
     },
     "execution_count": 3,
     "metadata": {},
     "output_type": "execute_result"
    }
   ],
   "source": [
    "a = permutedims(npzread(\"triangles_a.npy\"), (3, 2, 1))\n",
    "b = permutedims(npzread(\"triangles_b.npy\"), (3, 2, 1))"
   ]
  },
  {
   "cell_type": "code",
   "execution_count": 4,
   "metadata": {},
   "outputs": [],
   "source": [
    "times = Dict()\n",
    "for s in [1, 10, 100, 1_000, 10_000, 100_000, 1_000_000, 10_000_000]\n",
    "    aa = a[:, :, 1:s]\n",
    "    bb = b[:, :, 1:s]\n",
    "    res = @belapsed(ifort_area_of_intersection($aa, $bb))\n",
    "    times[s] = res\n",
    "end\n",
    "\n",
    "open(\"timing/julia-ifort.json\",\"w\") do f\n",
    "    JSON.print(f, times)\n",
    "end\n",
    "\n",
    "npzwrite(\"answers/julia-ifort.npy\", ifort_area_of_intersection(a[:, :, 1:10_000], b[:, :, 1:10_000]))"
   ]
  },
  {
   "cell_type": "code",
   "execution_count": 5,
   "metadata": {},
   "outputs": [],
   "source": [
    "times = Dict()\n",
    "for s in [1, 10, 100, 1_000, 10_000, 100_000, 1_000_000, 10_000_000]\n",
    "    aa = a[:, :, 1:s]\n",
    "    bb = b[:, :, 1:s]\n",
    "    res = @belapsed(gfortran_area_of_intersection($aa, $bb))\n",
    "    times[s] = res\n",
    "end\n",
    "\n",
    "open(\"timing/julia-gfortran.json\",\"w\") do f\n",
    "    JSON.print(f, times)\n",
    "end\n",
    "\n",
    "npzwrite(\"answers/julia-gfortran.npy\", gfortran_area_of_intersection(a[:, :, 1:10_000], b[:, :, 1:10_000]))"
   ]
  }
 ],
 "metadata": {
  "kernelspec": {
   "display_name": "Julia 1.3.1",
   "language": "julia",
   "name": "julia-1.3"
  },
  "language_info": {
   "file_extension": ".jl",
   "mimetype": "application/julia",
   "name": "julia",
   "version": "1.3.1"
  }
 },
 "nbformat": 4,
 "nbformat_minor": 4
}
