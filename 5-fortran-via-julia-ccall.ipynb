{
 "cells": [
  {
   "cell_type": "code",
   "execution_count": 1,
   "metadata": {},
   "outputs": [],
   "source": [
    "using BenchmarkTools\n",
    "using NPZ\n",
    "using JSON"
   ]
  },
  {
   "cell_type": "markdown",
   "metadata": {},
   "source": [
    "Compile it with ifort, and check the exported symbols:\n",
    "```\n",
    "call \"c:\\Program Files (x86)\\IntelSWTools\\compilers_and_libraries_2019.5.281\\windows\\bin\\ifortvars.bat\" intel64\n",
    "ifort -O2 /dll clipping.f90 -o ifort_clipping.dll\n",
    "DUMPBIN /exports clipping.dll\n",
    "```\n",
    "\n",
    "If not on Windows, maybe add `-static-intel`, i.e.:\n",
    "```\n",
    "ifort -O2 /dll -static-intel clipping.f90 -o ifort_clipping.dll\n",
    "```\n",
    "\n",
    "Install MinGW for gfortran, make sure to link libgfortran statically or the DLL will not be accepted.\n",
    "```\n",
    "gfortran -O2 -shared -static-libgfortran clipping.f90 -o gfortran_clipping.dll\n",
    "```"
   ]
  },
  {
   "cell_type": "code",
   "execution_count": 2,
   "metadata": {},
   "outputs": [
    {
     "data": {
      "text/plain": [
       "gfortran_area_of_intersection (generic function with 1 method)"
      ]
     },
     "execution_count": 2,
     "metadata": {},
     "output_type": "execute_result"
    }
   ],
   "source": [
    "function ifort_area_of_intersection(a, b)\n",
    "    ndim, nvertex, ntriangles = size(a)\n",
    "    out = Vector{Float64}(undef, ntriangles)\n",
    "    ccall(\n",
    "        (:area_of_intersection, \"./src/fortran/ifort_clipping.dll\"),\n",
    "        Nothing,\n",
    "        (Ptr{Int64}, Ptr{Int64}, Ptr{Int64}, Ptr{Float64}, Ptr{Float64}, Ptr{Float64}),\n",
    "        Ref(ndim), Ref(nvertex), Ref(ntriangles), a, b, out,\n",
    "    )\n",
    "    return out\n",
    "end\n",
    "\n",
    "function gfortran_area_of_intersection(a, b)\n",
    "    ndim, nvertex, ntriangles = size(a)\n",
    "    out = Vector{Float64}(undef, ntriangles)\n",
    "    ccall(\n",
    "        (:area_of_intersection, \"./src/fortran/gfortran_clipping.dll\"),\n",
    "        Nothing,\n",
    "        (Ptr{Int64}, Ptr{Int64}, Ptr{Int64}, Ptr{Float64}, Ptr{Float64}, Ptr{Float64}),\n",
    "        Ref(ndim), Ref(nvertex), Ref(ntriangles), a, b, out,\n",
    "    )\n",
    "    return out\n",
    "end"
   ]
  },
  {
   "cell_type": "code",
   "execution_count": 3,
   "metadata": {},
   "outputs": [
    {
     "data": {
      "text/plain": [
       "2×3×10000000 Array{Float64,3}:\n",
       "[:, :, 1] =\n",
       " 0.772866  0.570218  0.250386\n",
       " 0.609051  0.958381  0.258065\n",
       "\n",
       "[:, :, 2] =\n",
       " 0.264513  0.664046  0.124763\n",
       " 0.538956  0.928762  0.803564\n",
       "\n",
       "[:, :, 3] =\n",
       " 0.47856   0.674365  0.393399\n",
       " 0.301384  0.281799  0.901712\n",
       "\n",
       "...\n",
       "\n",
       "[:, :, 9999998] =\n",
       " 0.398022  0.0983778  0.43207\n",
       " 0.561544  0.233543   0.38628\n",
       "\n",
       "[:, :, 9999999] =\n",
       " 0.982461  0.107067  0.588445\n",
       " 0.401328  0.310718  0.162313\n",
       "\n",
       "[:, :, 10000000] =\n",
       " 0.529699  0.942806  0.724126\n",
       " 0.150737  0.965228  0.731719"
      ]
     },
     "execution_count": 3,
     "metadata": {},
     "output_type": "execute_result"
    }
   ],
   "source": [
    "a = permutedims(npzread(\"triangles_a.npy\"), (3, 2, 1))\n",
    "b = permutedims(npzread(\"triangles_b.npy\"), (3, 2, 1))"
   ]
  },
  {
   "cell_type": "code",
   "execution_count": 4,
   "metadata": {},
   "outputs": [],
   "source": [
    "times = Dict()\n",
    "for s in [1, 10, 100, 1_000, 10_000, 100_000, 1_000_000, 10_000_000]\n",
    "    aa = a[:, :, 1:s]\n",
    "    bb = b[:, :, 1:s]\n",
    "    res = @belapsed(ifort_area_of_intersection($aa, $bb))\n",
    "    times[s] = res\n",
    "end\n",
    "\n",
    "open(\"timing/julia-ifort.json\",\"w\") do f\n",
    "    JSON.print(f, times)\n",
    "end\n",
    "\n",
    "npzwrite(\"answers/julia-ifort.npy\", ifort_area_of_intersection(a[:, :, 1:10_000], b[:, :, 1:10_000]))"
   ]
  },
  {
   "cell_type": "code",
   "execution_count": 5,
   "metadata": {},
   "outputs": [],
   "source": [
    "times = Dict()\n",
    "for s in [1, 10, 100, 1_000, 10_000, 100_000, 1_000_000, 10_000_000]\n",
    "    aa = a[:, :, 1:s]\n",
    "    bb = b[:, :, 1:s]\n",
    "    res = @belapsed(gfortran_area_of_intersection($aa, $bb))\n",
    "    times[s] = res\n",
    "end\n",
    "\n",
    "open(\"timing/julia-gfortran.json\",\"w\") do f\n",
    "    JSON.print(f, times)\n",
    "end\n",
    "\n",
    "npzwrite(\"answers/julia-gfortran.npy\", gfortran_area_of_intersection(a[:, :, 1:10_000], b[:, :, 1:10_000]))"
   ]
  }
 ],
 "metadata": {
  "kernelspec": {
   "display_name": "Julia 1.3.1",
   "language": "julia",
   "name": "julia-1.3"
  },
  "language_info": {
   "file_extension": ".jl",
   "mimetype": "application/julia",
   "name": "julia",
   "version": "1.3.1"
  }
 },
 "nbformat": 4,
 "nbformat_minor": 4
}
